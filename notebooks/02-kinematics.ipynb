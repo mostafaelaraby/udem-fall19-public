{
 "cells": [
  {
   "cell_type": "markdown",
   "metadata": {},
   "source": [
    "# Representations, Kinematics and Dynamics\n",
    "\n",
    "Duckietown exercises for Sept 16th, 2019\n",
    "\n",
    "\n",
    "\n",
    "## 1. Frame manipulation\n",
    "\n",
    "It's emergency time in Duckietown! An earthquake shook the quiet village, and some buildings have fallen on the streets.\n",
    "\n",
    "### A. From robot to map\n",
    "You are the head of operations, and you gave to your Duckiebot a critical recognition mission: identify and place road obstacles on the map.\n",
    "\n",
    "During its mission, your Duckiebot has GPS support, and it knows its own position in the global (map) frame. \n",
    "\n",
    "It encounters its first obstacle when at position  x = 2m and y = 0.4m, and orientation theta = 110 degrees.\n",
    "The obstacle itself is at 30 cm at 30 degrees (anti-clockwise) from the Duckiebot. \n",
    "\n",
    "Where on the map frame should obstacle 1 be placed?\n"
   ]
  },
  {
   "cell_type": "code",
   "execution_count": 1,
   "metadata": {},
   "outputs": [],
   "source": [
    "### Run this cell to initialize the problem\n",
    "import numpy as np\n",
    "\n",
    "duckie_pos_g = np.array([2, 0.4])   # Position of Duckiebot in global frame\n",
    "duckie_or_g = 110                   # Orientation of Duckiebot in global frame (degrees)\n",
    "obstacle_dist_to_duckie = 0.3       # Obstacle distance to the Duckiebot\n",
    "obstacle_angle = 30                 # Obstacle angle with respect to Duckiebot"
   ]
  },
  {
   "cell_type": "markdown",
   "metadata": {},
   "source": [
    "Write your code here:"
   ]
  },
  {
   "cell_type": "code",
   "execution_count": 2,
   "metadata": {},
   "outputs": [
    {
     "data": {
      "text/plain": [
       "array([1.77018667, 0.59283628])"
      ]
     },
     "execution_count": 2,
     "metadata": {},
     "output_type": "execute_result"
    }
   ],
   "source": [
    "# Your calculations here\n",
    "import math\n",
    "theta = math.radians(obstacle_angle + duckie_or_g)\n",
    "#creating translation and rotation matrix\n",
    "obstacle_pos_g = duckie_pos_g + obstacle_dist_to_duckie*np.array([np.cos(theta), np.sin(theta)])\n",
    "obstacle_pos_g"
   ]
  },
  {
   "cell_type": "markdown",
   "metadata": {},
   "source": [
    "Include your answer in a text file in your submission in section 1.A of a text file: **kinematics.txt**"
   ]
  },
  {
   "cell_type": "markdown",
   "metadata": {},
   "source": [
    "### B. From the global frame to the robot's\n",
    "A concerned Duckie citizen calls you: \n",
    "\n",
    "`I can see a piece of roof on the road! It's positioned at x = 4m and y = - 1m!`\n",
    "\n",
    "This is valuable information but, to add it to your map, you need your Duckiebot to verify it. Luckily, your Duckiebot is closeby, at x = 3.5m, y = -1.2m, and oriented at theta = 45 degrees.\n",
    "You need to give a waypoint to your Duckiebot in its robot frame so that it can go and look.\n",
    "\n",
    "In the robot frame, what are the cartesian coordinates of the obstacle described by the concerned Duckie citizen?"
   ]
  },
  {
   "cell_type": "code",
   "execution_count": 3,
   "metadata": {},
   "outputs": [],
   "source": [
    "### Run this cell to initialize the problem\n",
    "\n",
    "duckie_pos_g = np.array([3.5, -1.2])   # Position of Duckiebot in global frame\n",
    "duckie_or_g = 45                       # Orientation of Duckiebot in global frame (degrees)\n",
    "obstacle_pos_g = np.array([4, -1])     # Position of obstacle in global frame"
   ]
  },
  {
   "cell_type": "markdown",
   "metadata": {},
   "source": [
    "Write your code here:"
   ]
  },
  {
   "cell_type": "code",
   "execution_count": 4,
   "metadata": {},
   "outputs": [
    {
     "data": {
      "text/plain": [
       "array([[ 0.49497475],\n",
       "       [-0.21213203]])"
      ]
     },
     "execution_count": 4,
     "metadata": {},
     "output_type": "execute_result"
    }
   ],
   "source": [
    "# Your calculations here\n",
    "duckie_or_g =   math.radians(duckie_or_g)\n",
    "rotation_matrix = np.array([\n",
    "    [math.cos(duckie_or_g),  math.sin(duckie_or_g) ],\n",
    "    [- math.sin(duckie_or_g), math.cos(duckie_or_g)]\n",
    "    ])\n",
    "obstacle_pos_r = rotation_matrix.dot(np.array([[ obstacle_pos_g[0] - duckie_pos_g[0]],[obstacle_pos_g[1] - duckie_pos_g[1]]]))\n",
    "obstacle_pos_r    # Put your answer here (position of obstacle in global frame) "
   ]
  },
  {
   "cell_type": "markdown",
   "metadata": {},
   "source": [
    "Add your answer in section 1.B of **kinematics.txt**."
   ]
  },
  {
   "cell_type": "markdown",
   "metadata": {},
   "source": [
    "## 2. Driving\n",
    "\n",
    "Good job! All the obstacles have been detected and mapped. Now, it's time for phase 2: acting.\n",
    "Before anything, please run the cell below to get stuff working."
   ]
  },
  {
   "cell_type": "code",
   "execution_count": 5,
   "metadata": {},
   "outputs": [
    {
     "name": "stderr",
     "output_type": "stream",
     "text": [
      "INFO:aido-protocols:aido-protocols 5.0.5\n",
      "\u001b[2m16:24:42|\u001b[0mzn\u001b[2m|__init__.py:6|<module>(): \u001b[0m\u001b[32mzn 2.0.3\u001b[0m\n",
      "\u001b[2m16:24:43|\u001b[0mzj\u001b[2m|__init__.py:5|<module>(): \u001b[0m\u001b[32mzj 2.0.4\u001b[0m\n",
      "\u001b[2m16:24:43|\u001b[0mgym-duckietown\u001b[2m|__init__.py:10|<module>(): \u001b[0m\u001b[32mgym-duckietown 2019.0.0\u001b[0m\n",
      "\u001b[32m\u001b[0m\n",
      "\u001b[2m16:24:43|\u001b[0mgym-duckietown\u001b[2m|__init__.py:24|reg_map_env(): \u001b[0m\u001b[32mRegistering gym environment id: Duckietown-4way-v0\u001b[0m\n",
      "\u001b[2m16:24:43|\u001b[0mgym-duckietown\u001b[2m|__init__.py:24|reg_map_env(): \u001b[0m\u001b[32mRegistering gym environment id: Duckietown-zigzag_dists-v0\u001b[0m\n",
      "\u001b[2m16:24:43|\u001b[0mgym-duckietown\u001b[2m|__init__.py:24|reg_map_env(): \u001b[0m\u001b[32mRegistering gym environment id: Duckietown-loop_dyn_duckiebots-v0\u001b[0m\n",
      "\u001b[2m16:24:43|\u001b[0mgym-duckietown\u001b[2m|__init__.py:24|reg_map_env(): \u001b[0m\u001b[32mRegistering gym environment id: Duckietown-small_loop_cw-v0\u001b[0m\n",
      "\u001b[2m16:24:43|\u001b[0mgym-duckietown\u001b[2m|__init__.py:24|reg_map_env(): \u001b[0m\u001b[32mRegistering gym environment id: Duckietown-loop_pedestrians-v0\u001b[0m\n",
      "\u001b[2m16:24:43|\u001b[0mgym-duckietown\u001b[2m|__init__.py:24|reg_map_env(): \u001b[0m\u001b[32mRegistering gym environment id: Duckietown-udem1-v0\u001b[0m\n",
      "\u001b[2m16:24:43|\u001b[0mgym-duckietown\u001b[2m|__init__.py:24|reg_map_env(): \u001b[0m\u001b[32mRegistering gym environment id: Duckietown-straight_road-v0\u001b[0m\n",
      "\u001b[2m16:24:43|\u001b[0mgym-duckietown\u001b[2m|__init__.py:24|reg_map_env(): \u001b[0m\u001b[32mRegistering gym environment id: Duckietown-small_loop-v0\u001b[0m\n",
      "\u001b[2m16:24:43|\u001b[0mgym-duckietown\u001b[2m|__init__.py:24|reg_map_env(): \u001b[0m\u001b[32mRegistering gym environment id: Duckietown-loop_obstacles-v0\u001b[0m\n",
      "\u001b[2m16:24:43|\u001b[0mgym-duckietown\u001b[2m|__init__.py:24|reg_map_env(): \u001b[0m\u001b[32mRegistering gym environment id: Duckietown-loop_empty-v0\u001b[0m\n"
     ]
    }
   ],
   "source": [
    "import os, sys\n",
    "module_path = os.path.abspath(os.path.join('..'))\n",
    "if module_path not in sys.path:\n",
    "    sys.path.append(module_path) \n",
    "    \n",
    "from utils.helpers import plot_poses, drive, calibrate_drive"
   ]
  },
  {
   "cell_type": "markdown",
   "metadata": {},
   "source": [
    "Now that you have run the cell above, you can continue.\n",
    "\n",
    "In order to remove the obstacles that are paralyzing Duckietown, your Duckiebot is equipped with a very special tool that can lift obstacles, but only if it is used in the right direction.\n",
    "What's more, the tool allows you to carry several obstacles at the same time - which is efficient. However, you can only give one command to the wheels between each of them...\n",
    "\n",
    "You send your Duckiebot to gather obstacle 1 at x = -3m, y = 2m and theta = 45 degrees. Obstacle 2 is at x = 0m, y = 2m and theta = -45 degrees. \n",
    "Knowing that you want to join obstacle 2 exactly 10 seconds after having gathered obstacle 1, which commands do you send to the each of the wheels?\n",
    "\n",
    "Write your values in `left_rate` and `right_rate` to test your answer. If it gets to the green arrow, you win!\n"
   ]
  },
  {
   "cell_type": "code",
   "execution_count": 6,
   "metadata": {},
   "outputs": [
    {
     "name": "stdout",
     "output_type": "stream",
     "text": [
      "Goal achieved! Great job!\n"
     ]
    },
    {
     "data": {
      "image/png": "[encoded data removed]",
      "text/plain": [
       "<Figure size 432x288 with 1 Axes>"
      ]
     },
     "metadata": {
      "needs_background": "light"
     },
     "output_type": "display_data"
    }
   ],
   "source": [
    "start_pos = [-3, 2]\n",
    "cur_angle = 45          # angle in degrees\n",
    "cur_pos = start_pos\n",
    "\n",
    "wheel_dist = 0.2         # 0.2 meters of distance between the wheels\n",
    "wheel_radius = 0.03      # radius of the wheels is 0.03 meters (3 cm)\n",
    "\n",
    "dt = 0.1\n",
    "total_timesteps = 100\n",
    "\n",
    "\n",
    "####### Modify here \n",
    "velocity = (math.sqrt((start_pos[0]-0  )**2 + (start_pos[1] -2  ) **2 )/np.sqrt(2)*np.pi/2 )/(total_timesteps * dt) \n",
    "angular_velocity = math.radians(-45-cur_angle) / (total_timesteps * dt   )\n",
    "right_rate =  (velocity +  (0.5 * wheel_dist * angular_velocity))\n",
    "left_rate = right_rate - ( wheel_dist * angular_velocity)\n",
    "right_rate /=(wheel_radius * np.pi * 2)\n",
    "left_rate  /=(wheel_radius * np.pi * 2)\n",
    "#######\n",
    "poses = [(cur_pos, cur_angle)]\n",
    "\n",
    "for t in range(total_timesteps):\n",
    "    cur_pos, cur_angle = drive(cur_pos, cur_angle, left_rate, right_rate, wheel_dist, wheel_radius, dt)\n",
    "    poses.append((cur_pos, cur_angle))\n",
    "\n",
    "plot_poses(poses, goal = (0, 2, -45))"
   ]
  },
  {
   "cell_type": "markdown",
   "metadata": {},
   "source": [
    "Add your answer in section 2 of **kinematics.txt**."
   ]
  },
  {
   "cell_type": "markdown",
   "metadata": {},
   "source": [
    "## 3. Calibration\n",
    "\n",
    "That went well!\n",
    "But that's because the model we used is a simulation and the robot acts exactly as we tell it to act.\n",
    "In real life... each robot has its own characteristics - for each wheel, the radius and the motor power are slighly different.\n",
    "So we need to calibrate it."
   ]
  },
  {
   "cell_type": "markdown",
   "metadata": {},
   "source": [
    "In this exercise, the wheel radius, and the moter constant, of each wheel is modelled with some noise.\n",
    "Of course, your robot does not know it, and when it tries to go straight forward, it will deviate from its trajectory!\n",
    "\n",
    "To compensate this problem, adjust the gain and the trim so that the robot reaches the goal location in green - which is where it would be if the model was perfect.\n",
    "The exercise is achieved when you get a \"Goal achieved! Great job!\" appearing on your screen!"
   ]
  },
  {
   "cell_type": "code",
   "execution_count": 7,
   "metadata": {},
   "outputs": [
    {
     "name": "stdout",
     "output_type": "stream",
     "text": [
      "Goal achieved! Great job!\n"
     ]
    },
    {
     "data": {
      "image/png": "[encoded data removed]",
      "text/plain": [
       "<Figure size 432x288 with 1 Axes>"
      ]
     },
     "metadata": {
      "needs_background": "light"
     },
     "output_type": "display_data"
    }
   ],
   "source": [
    "# Pick a number, any number!\n",
    "seed = 500\n",
    "\n",
    "# Adjust these!\n",
    "gain = 1.0115\n",
    "trim = -0.0313\n",
    "\n",
    "## From here, do not change\n",
    "\n",
    "dt = 0.1\n",
    "total_timesteps = 100\n",
    "\n",
    "start_pos = [0, 0]\n",
    "cur_pos = start_pos\n",
    "cur_angle = 0\n",
    "\n",
    "poses = [(cur_pos, cur_angle)]\n",
    "\n",
    "for t in range(total_timesteps):\n",
    "    cur_pos, cur_angle = calibrate_drive(cur_pos, cur_angle, gain, trim, dt, seed)\n",
    "    poses.append((cur_pos, cur_angle))\n",
    "   \n",
    "plot_poses(poses, goal = (1.885, 0, 0), draw_line=True)"
   ]
  },
  {
   "cell_type": "markdown",
   "metadata": {},
   "source": [
    "## 4. From linear and angular velocity to wheel commands\n",
    "\n",
    "Until know, we have controlled the Duckiebot by sending it commands to control the *wheel velocities*.\n",
    "It is often more practical to directly control the robot with commands of *linear and angular velocities* of the robot.\n",
    "\n",
    "In this exercise, you will be asked to write a function that takes as arguments linear velocity `v` and angular velocity `omega` and returns the corresponding wheel angular speed `V_l` and `V_r`.\n",
    "\n",
    "In your file `notebooks/code/exercise_02_kinematics/vel2wheel.py`, complete function `vel2wheel`. You can assume that the wheels have the same radius and the motors are exactly similar. Therefore, no trim is needed.\n",
    "\n",
    "\n",
    "Setup the exercise by running this code."
   ]
  },
  {
   "cell_type": "code",
   "execution_count": 8,
   "metadata": {},
   "outputs": [],
   "source": [
    "import os, sys\n",
    "module_path = os.path.abspath(os.path.join('..'))\n",
    "if module_path not in sys.path:\n",
    "    sys.path.append(module_path) \n",
    "    \n",
    "from utils.helpers import plot_poses, drive\n",
    "from notebooks.code.exercise_02_kinematics.vel2wheel import vel2wheel"
   ]
  },
  {
   "cell_type": "markdown",
   "metadata": {},
   "source": [
    "\n",
    "To celebrate that Duckietown is now all clean thanks to you, a small parade is organized in Duckietown.\n",
    "To show off your skills, you put a paintbrush on your Duckiebot so that it creates drawings on the ground wherever it goes. You want your robot write on the ground a **D**, first letter of Duckietown. \n",
    "\n",
    "Your painting reserves will last 100 seconds of painting, and your maximal speed is 0.5 meters/seconds. The **D** should be as large as possible knowing that the curved part of the **D** should be a half-circle. \n",
    "\n",
    "Control your robot in the following code using `v` and `omega` to create the best **D** drawing possible."
   ]
  },
  {
   "cell_type": "code",
   "execution_count": 27,
   "metadata": {},
   "outputs": [
    {
     "data": {
      "image/png": "[encoded data removed]",
      "text/plain": [
       "<Figure size 432x288 with 1 Axes>"
      ]
     },
     "metadata": {
      "needs_background": "light"
     },
     "output_type": "display_data"
    }
   ],
   "source": [
    "start_pos = [0, 0]\n",
    "cur_angle = 0          # angle in degrees\n",
    "cur_pos = start_pos\n",
    "\n",
    "wheel_dist = 0.25         # 0.25 meters of distance between the wheels\n",
    "wheel_rad = 0.04      # radius of the wheels is 0.04 meters (4 cm)\n",
    "\n",
    "dt = 0.1\n",
    "total_timesteps = 1000\n",
    "\n",
    "poses = [(cur_pos, cur_angle)]\n",
    "\n",
    "\n",
    "for t in range(total_timesteps):\n",
    "    \n",
    "    ### Modify code here depending on t (you can use if statements)\n",
    "    v=0.5\n",
    "    maximum_distance = v * total_timesteps * dt\n",
    "    maximum_circle_radius = maximum_distance / (np.pi + 2) # from the perimeter of the D character\n",
    "    half_circle_limit = int(total_timesteps*np.pi/(np.pi+2)) # t steps to achieve the half circle of the D\n",
    "    \n",
    "    if t<half_circle_limit:\n",
    "        omega = v/maximum_circle_radius\n",
    "    elif t==phase_one_limit:\n",
    "        omega = (270 - cur_angle) / 180 * np.pi / dt\n",
    "    else:\n",
    "        omega = 0\n",
    "    ###\n",
    "    \n",
    "    left_rate, right_rate =  vel2wheel(v, omega, wheel_dist, wheel_rad)     #  in turns per second\n",
    "    cur_pos, cur_angle = drive(cur_pos, cur_angle, left_rate, right_rate, wheel_dist, wheel_rad, dt)\n",
    "    poses.append((cur_pos, cur_angle))\n",
    "\n",
    "plot_poses(poses)"
   ]
  },
  {
   "cell_type": "code",
   "execution_count": 147,
   "metadata": {},
   "outputs": [
    {
     "data": {
      "image/png": "[encoded data removed]",
      "text/plain": [
       "<Figure size 432x288 with 1 Axes>"
      ]
     },
     "metadata": {
      "needs_background": "light"
     },
     "output_type": "display_data"
    }
   ],
   "source": [
    "\n",
    "\n",
    "wheel_dist = 0.25         # 0.25 meters of distance between the wheels\n",
    "wheel_rad = 0.04      # radius of the wheels is 0.04 meters (4 cm)\n",
    "\n",
    "dt = 0.1\n",
    "total_timesteps = 700\n",
    "\n",
    "\n",
    "poses = [(cur_pos, cur_angle)]\n",
    "\n",
    "\n",
    "#drawing smiley face circle\n",
    "\n",
    "smiley_circle_radius = 3\n",
    "start_pos = [smiley_circle_radius/2, smiley_circle_radius/2]\n",
    "cur_angle = 45         # angle in degrees\n",
    "cur_pos = start_pos\n",
    "v = 0.5\n",
    "distance = 2 * math.pi * smiley_circle_radius\n",
    "timesteps = int(distance  / (v * dt)) \n",
    "for t in range(timesteps):\n",
    "    omega = 0.5 / smiley_circle_radius\n",
    "    left_rate, right_rate =  vel2wheel(v, omega, wheel_dist, wheel_rad)     #  in turns per second\n",
    "    cur_pos, cur_angle = drive(cur_pos, cur_angle, left_rate, right_rate, wheel_dist, wheel_rad, dt)\n",
    "    poses.append((cur_pos, cur_angle))\n",
    "\n",
    "# jumping to the left corner to draw first eye\n",
    "start_pos = [start_pos[0] - smiley_circle_radius * 1.2, start_pos[1] + smiley_circle_radius]\n",
    "first_eye = start_pos\n",
    "cur_angle = 0         # angle in degrees\n",
    "cur_pos = start_pos  \n",
    "eye_circle_radius = 0.3\n",
    "\n",
    "distance = 2 * math.pi * eye_circle_radius\n",
    "timesteps = int(distance  / (v * dt)) \n",
    "for t in range(timesteps):\n",
    "    omega = 0.5 / eye_circle_radius\n",
    "    left_rate, right_rate =  vel2wheel(v, omega, wheel_dist, wheel_rad)     #  in turns per second\n",
    "    cur_pos, cur_angle = drive(cur_pos, cur_angle, left_rate, right_rate, wheel_dist, wheel_rad, dt)\n",
    "    poses.append((cur_pos, cur_angle))\n",
    "\n",
    "# now let's put a smile on that face\n",
    "\n",
    "start_pos = [start_pos[0] + smiley_circle_radius * 0.3 , start_pos[1] - smiley_circle_radius * 0.9]\n",
    "cur_angle = 0       # angle in degrees\n",
    "cur_pos = start_pos  \n",
    "smile_circle_radius = smiley_circle_radius * 2\n",
    "\n",
    "distance = 2 * math.pi * smile_circle_radius\n",
    "timesteps = int(distance  / (v * dt * 10)) \n",
    "for t in range(timesteps):\n",
    "    if t < timesteps/8:\n",
    "        omega = (math.radians(-45) - math.radians(cur_angle)) / ((t+1) * dt)\n",
    "    elif t< timesteps/2:\n",
    "        omega = (math.radians(45) - math.radians(cur_angle) ) / ((t+1) * dt)\n",
    "    else:\n",
    "        omega = (math.radians(180) - math.radians(cur_angle) ) / ((t+1) * dt)\n",
    "    left_rate, right_rate =  vel2wheel(v, omega, wheel_dist, wheel_rad)     #  in turns per second\n",
    "    cur_pos, cur_angle = drive(cur_pos, cur_angle, left_rate, right_rate, wheel_dist, wheel_rad, dt)\n",
    "    poses.append((cur_pos, cur_angle))\n",
    "\n",
    "# now dawing the twink part\n",
    "\n",
    "start_pos = [first_eye[0] + smiley_circle_radius /2 + second_eye_radius, first_eye[1] + 1  ]\n",
    "cur_angle = 45      # angle in degrees\n",
    "cur_pos = start_pos  \n",
    "second_eye_radius = eye_circle_radius\n",
    "\n",
    "distance = 2 * math.pi * smile_circle_radius\n",
    "timesteps = int(distance  / (v * dt * 32)) \n",
    "for t in range(timesteps):\n",
    "    if t < timesteps/4:\n",
    "        omega = (math.radians(-45) - math.radians(cur_angle)) / ((t+1) * dt)\n",
    "    else:\n",
    "        omega = (math.radians(45) - math.radians(cur_angle) ) / ((t+1) * dt)\n",
    "    left_rate, right_rate =  vel2wheel(v, omega, wheel_dist, wheel_rad)     #  in turns per second\n",
    "    cur_pos, cur_angle = drive(cur_pos, cur_angle, left_rate, right_rate, wheel_dist, wheel_rad, dt)\n",
    "    poses.append((cur_pos, cur_angle))\n",
    "    \n",
    "plot_poses(poses)"
   ]
  },
  {
   "cell_type": "markdown",
   "metadata": {},
   "source": [
    "Include the vel2wheel code in your submission file as **vel2wheel.py**, as well as a screenshot showing the final drawing **kinematics_D_drawing.png** and the associated code in the *for* loop in section 4 of **kinematics.txt**.\n",
    "\n",
    "### Bonus\n",
    "\n",
    "If you want to be more creative and make another drawing, whether it represents a Duckie, a smiley face, or anything else, you are very welcome to add another screenshot and its associated code in **kinematics_bonus_drawing.png** and the associated code in the *for* loop in section 4.Bonus of **kinematics.txt**. It is also valid if you use more than 1000 time steps."
   ]
  }
 ],
 "metadata": {
  "kernelspec": {
   "display_name": "Python 3",
   "language": "python",
   "name": "python3"
  },
  "language_info": {
   "codemirror_mode": {
    "name": "ipython",
    "version": 3
   },
   "file_extension": ".py",
   "mimetype": "text/x-python",
   "name": "python",
   "nbconvert_exporter": "python",
   "pygments_lexer": "ipython3",
   "version": "3.6.8"
  }
 },
 "nbformat": 4,
 "nbformat_minor": 2
}
